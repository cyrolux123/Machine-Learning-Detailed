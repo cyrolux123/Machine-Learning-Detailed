{
 "cells": [
  {
   "cell_type": "markdown",
   "metadata": {},
   "source": [
    "SQL(Structured Query Language) is a standard language for managing and manipulating relational databases. SQLite is a self-contained, serverless, and zero-configuration database engine that is widely used for embedded database systems."
   ]
  },
  {
   "cell_type": "code",
   "execution_count": 1,
   "metadata": {},
   "outputs": [],
   "source": [
    "import sqlite3"
   ]
  },
  {
   "cell_type": "code",
   "execution_count": 2,
   "metadata": {},
   "outputs": [
    {
     "data": {
      "text/plain": [
       "<sqlite3.Connection at 0x2283bb6fc40>"
      ]
     },
     "execution_count": 2,
     "metadata": {},
     "output_type": "execute_result"
    }
   ],
   "source": [
    "# Connect to an SQLite database\n",
    "\n",
    "connection = sqlite3.connect('example.db')\n",
    "connection"
   ]
  },
  {
   "cell_type": "code",
   "execution_count": 3,
   "metadata": {},
   "outputs": [],
   "source": [
    "cursor = connection.cursor() # create a cursor object"
   ]
  },
  {
   "cell_type": "code",
   "execution_count": 4,
   "metadata": {},
   "outputs": [],
   "source": [
    "# Create a table\n",
    "cursor.execute('''\n",
    "CREATE TABLE IF NOT EXISTS employees (\n",
    "    id INTEGER PRIMARY KEY,\n",
    "    name TEXT NOT NULL,\n",
    "    age INTEGER,\n",
    "    department TEXT\n",
    "    )\n",
    "''')\n",
    "\n",
    "## Commit the changes\n",
    "connection.commit()"
   ]
  },
  {
   "cell_type": "code",
   "execution_count": 5,
   "metadata": {},
   "outputs": [
    {
     "data": {
      "text/plain": [
       "<sqlite3.Cursor at 0x2283bd39e40>"
      ]
     },
     "execution_count": 5,
     "metadata": {},
     "output_type": "execute_result"
    }
   ],
   "source": [
    "cursor.execute('''\n",
    "SELECT * FROM employees\n",
    "''')"
   ]
  },
  {
   "cell_type": "code",
   "execution_count": 6,
   "metadata": {},
   "outputs": [],
   "source": [
    "## Insert the data in sqlite table\n",
    "cursor.execute('''\n",
    "INSERT INTO employees (name, age, department)\n",
    "VALUES ('John', 25, 'HR')\n",
    "''')\n",
    "\n",
    "cursor.execute('''\n",
    "INSERT INTO employees (name, age, department)\n",
    "VALUES ('Marie', 30, 'IT')\n",
    "''')\n",
    "\n",
    "cursor.execute('''\n",
    "INSERT INTO employees (name, age, department)\n",
    "VALUES ('Andrew', 28, 'Data Science')\n",
    "''')\n",
    "\n",
    "## Commit the changes\n",
    "connection.commit()"
   ]
  },
  {
   "cell_type": "code",
   "execution_count": 7,
   "metadata": {},
   "outputs": [
    {
     "name": "stdout",
     "output_type": "stream",
     "text": [
      "(1, 'John', 25, 'HR')\n",
      "(2, 'Marie', 30, 'IT')\n",
      "(3, 'Andrew', 28, 'Data Science')\n"
     ]
    }
   ],
   "source": [
    "## Query the data from the table\n",
    "cursor.execute('''\n",
    "SELECT * FROM employees\n",
    "''')\n",
    "rows = cursor.fetchall()\n",
    "\n",
    "# Print the queried data\n",
    "\n",
    "for row in rows:\n",
    "    print(row)"
   ]
  },
  {
   "cell_type": "code",
   "execution_count": 8,
   "metadata": {},
   "outputs": [],
   "source": [
    "## Update the data in the table\n",
    "cursor.execute('''\n",
    "UPDATE employees\n",
    "SET age = 26\n",
    "WHERE name = 'John'\n",
    "''')\n",
    "\n",
    "## Commit the changes\n",
    "connection.commit()"
   ]
  },
  {
   "cell_type": "code",
   "execution_count": 9,
   "metadata": {},
   "outputs": [
    {
     "name": "stdout",
     "output_type": "stream",
     "text": [
      "(1, 'John', 26, 'HR')\n",
      "(2, 'Marie', 30, 'IT')\n",
      "(3, 'Andrew', 28, 'Data Science')\n"
     ]
    }
   ],
   "source": [
    "## Query the data from the table\n",
    "cursor.execute('''\n",
    "SELECT * FROM employees\n",
    "''')\n",
    "rows = cursor.fetchall()\n",
    "\n",
    "# Print the queried data\n",
    "\n",
    "for row in rows:\n",
    "    print(row)"
   ]
  },
  {
   "cell_type": "code",
   "execution_count": 10,
   "metadata": {},
   "outputs": [],
   "source": [
    "## Delete the data from the table\n",
    "cursor.execute('''\n",
    "DELETE FROM employees\n",
    "WHERE name = 'Andrew'\n",
    "''')\n",
    "\n",
    "## Commit the changes\n",
    "connection.commit()"
   ]
  },
  {
   "cell_type": "code",
   "execution_count": 11,
   "metadata": {},
   "outputs": [
    {
     "name": "stdout",
     "output_type": "stream",
     "text": [
      "(1, 'John', 26, 'HR')\n",
      "(2, 'Marie', 30, 'IT')\n"
     ]
    }
   ],
   "source": [
    "## Query the data from the table\n",
    "cursor.execute('''\n",
    "SELECT * FROM employees\n",
    "''')\n",
    "rows = cursor.fetchall()\n",
    "\n",
    "# Print the queried data\n",
    "\n",
    "for row in rows:\n",
    "    print(row)"
   ]
  },
  {
   "cell_type": "code",
   "execution_count": 12,
   "metadata": {},
   "outputs": [],
   "source": [
    "## Working with Sales Data\n",
    "# Connect to an SQLite database\n",
    "\n",
    "connection = sqlite3.connect('sales_data.db')\n",
    "cursor = connection.cursor() # create a cursor object\n",
    "\n",
    "# Create a table for sales data\n",
    "cursor.execute('''\n",
    "CREATE TABLE IF NOT EXISTS sales (\n",
    "    id INTEGER PRIMARY KEY,\n",
    "    date TEXT NOT NULL,\n",
    "    product TEXT NOT NULL,\n",
    "    region TEXT,\n",
    "    sales INTEGER\n",
    "    )\n",
    "''')\n",
    "\n",
    "# Insert the data into the sales table\n",
    "sales_data = [\n",
    "    ('2021-01-01', 'Product A', 'North', 100),\n",
    "    ('2021-01-02', 'Product B', 'South', 200),\n",
    "    ('2021-01-03', 'Product C', 'East', 300),\n",
    "    ('2021-01-04', 'Product D', 'West', 400),\n",
    "    ('2021-01-05', 'Product E', 'North', 500),\n",
    "    ('2021-01-06', 'Product F', 'South', 600),\n",
    "    ('2021-01-07', 'Product G', 'East', 700),\n",
    "    ('2021-01-08', 'Product H', 'West', 800),\n",
    "    ('2021-01-09', 'Product I', 'North', 900),\n",
    "    ('2021-01-10', 'Product J', 'South', 1000)\n",
    "]\n",
    "\n",
    "cursor.executemany('''\n",
    "INSERT INTO sales (date, product, region, sales)\n",
    "VALUES (?, ?, ?, ?)\n",
    "''', sales_data)\n",
    "\n",
    "## Commit the changes\n",
    "connection.commit()"
   ]
  },
  {
   "cell_type": "code",
   "execution_count": 13,
   "metadata": {},
   "outputs": [
    {
     "name": "stdout",
     "output_type": "stream",
     "text": [
      "(1, '2021-01-01', 'Product A', 'North', 100)\n",
      "(2, '2021-01-02', 'Product B', 'South', 200)\n",
      "(3, '2021-01-03', 'Product C', 'East', 300)\n",
      "(4, '2021-01-04', 'Product D', 'West', 400)\n",
      "(5, '2021-01-05', 'Product E', 'North', 500)\n",
      "(6, '2021-01-06', 'Product F', 'South', 600)\n",
      "(7, '2021-01-07', 'Product G', 'East', 700)\n",
      "(8, '2021-01-08', 'Product H', 'West', 800)\n",
      "(9, '2021-01-09', 'Product I', 'North', 900)\n",
      "(10, '2021-01-10', 'Product J', 'South', 1000)\n"
     ]
    }
   ],
   "source": [
    "# Query the data from the sales table\n",
    "cursor.execute('''\n",
    "SELECT * FROM sales\n",
    "''')\n",
    "rows = cursor.fetchall()\n",
    "\n",
    "# Print the queried data\n",
    "for row in rows:\n",
    "    print(row)"
   ]
  },
  {
   "cell_type": "code",
   "execution_count": 14,
   "metadata": {},
   "outputs": [],
   "source": [
    "## Close the connection\n",
    "connection.close()"
   ]
  }
 ],
 "metadata": {
  "kernelspec": {
   "display_name": "Python 3",
   "language": "python",
   "name": "python3"
  },
  "language_info": {
   "codemirror_mode": {
    "name": "ipython",
    "version": 3
   },
   "file_extension": ".py",
   "mimetype": "text/x-python",
   "name": "python",
   "nbconvert_exporter": "python",
   "pygments_lexer": "ipython3",
   "version": "3.10.0"
  }
 },
 "nbformat": 4,
 "nbformat_minor": 2
}
