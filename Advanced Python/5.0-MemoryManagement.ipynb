{
 "cells": [
  {
   "cell_type": "markdown",
   "metadata": {},
   "source": [
    "Memory management in Python involves a combination of automatic garbage collection, reference counting, and various internal optimizations to efficiently manage memory allocation and deallocation."
   ]
  },
  {
   "cell_type": "markdown",
   "metadata": {},
   "source": [
    "Reference counting is the primary method Python uses to manage memory. Each object in Python maintains a count of references pointing to it. When the reference count drops to zero, the memory occupied by the object is deallocated."
   ]
  },
  {
   "cell_type": "code",
   "execution_count": 9,
   "metadata": {},
   "outputs": [
    {
     "name": "stdout",
     "output_type": "stream",
     "text": [
      "2\n"
     ]
    }
   ],
   "source": [
    "import sys\n",
    "\n",
    "a = []\n",
    "# 2 (one reference from 'a' and one from getrefcount)\n",
    "print(sys.getrefcount(a))"
   ]
  },
  {
   "cell_type": "code",
   "execution_count": 10,
   "metadata": {},
   "outputs": [
    {
     "name": "stdout",
     "output_type": "stream",
     "text": [
      "3\n"
     ]
    }
   ],
   "source": [
    "b = a\n",
    "print(sys.getrefcount(a))"
   ]
  },
  {
   "cell_type": "code",
   "execution_count": 11,
   "metadata": {},
   "outputs": [
    {
     "name": "stdout",
     "output_type": "stream",
     "text": [
      "2\n"
     ]
    }
   ],
   "source": [
    "del b\n",
    "print(sys.getrefcount(a))"
   ]
  },
  {
   "cell_type": "markdown",
   "metadata": {},
   "source": [
    "Python includes a cyclic garbage collector to handle reference cycles. Reference cycles occur when objects reference each other, preventing with their reference counts from reaching zero."
   ]
  },
  {
   "cell_type": "code",
   "execution_count": 12,
   "metadata": {},
   "outputs": [],
   "source": [
    "# Handling circular references\n",
    "import gc\n",
    "\n",
    "# enable garbage collection\n",
    "gc.enable()"
   ]
  },
  {
   "cell_type": "code",
   "execution_count": 13,
   "metadata": {},
   "outputs": [],
   "source": [
    "gc.disable()"
   ]
  },
  {
   "cell_type": "code",
   "execution_count": 14,
   "metadata": {},
   "outputs": [
    {
     "data": {
      "text/plain": [
       "1194"
      ]
     },
     "execution_count": 14,
     "metadata": {},
     "output_type": "execute_result"
    }
   ],
   "source": [
    "gc.collect()"
   ]
  },
  {
   "cell_type": "code",
   "execution_count": 15,
   "metadata": {},
   "outputs": [
    {
     "name": "stdout",
     "output_type": "stream",
     "text": [
      "[{'collections': 310, 'collected': 1660, 'uncollectable': 0}, {'collections': 28, 'collected': 806, 'uncollectable': 0}, {'collections': 3, 'collected': 1194, 'uncollectable': 0}]\n"
     ]
    }
   ],
   "source": [
    "# get garbage collection stats\n",
    "print(gc.get_stats())"
   ]
  },
  {
   "cell_type": "code",
   "execution_count": 16,
   "metadata": {},
   "outputs": [
    {
     "name": "stdout",
     "output_type": "stream",
     "text": [
      "[]\n"
     ]
    }
   ],
   "source": [
    "# get unreachable objects\n",
    "print(gc.garbage)"
   ]
  },
  {
   "cell_type": "code",
   "execution_count": 20,
   "metadata": {},
   "outputs": [
    {
     "name": "stdout",
     "output_type": "stream",
     "text": [
      "Object created: obj1\n",
      "Object created: obj2\n",
      "Object deleted: obj1\n",
      "Object deleted: obj2\n"
     ]
    },
    {
     "data": {
      "text/plain": [
       "9"
      ]
     },
     "execution_count": 20,
     "metadata": {},
     "output_type": "execute_result"
    }
   ],
   "source": [
    "import gc\n",
    "\n",
    "class MyObject:\n",
    "    def __init__(self, name):\n",
    "        self.name = name\n",
    "        print('Object created:', self.name)\n",
    "\n",
    "    def __del__(self):\n",
    "        print('Object deleted:', self.name)\n",
    "\n",
    "# create circular reference\n",
    "obj1 = MyObject('obj1')\n",
    "obj2 = MyObject('obj2')\n",
    "obj1.ref = obj2\n",
    "obj2.ref = obj1\n",
    "\n",
    "# delete references\n",
    "del obj1\n",
    "del obj2\n",
    "\n",
    "# manually trigger garbage collection\n",
    "gc.collect()"
   ]
  },
  {
   "cell_type": "code",
   "execution_count": 21,
   "metadata": {},
   "outputs": [
    {
     "name": "stdout",
     "output_type": "stream",
     "text": [
      "Garbaje collected objects: []\n"
     ]
    }
   ],
   "source": [
    "# print collected objects\n",
    "print(f\"Garbaje collected objects: {gc.garbage}\")"
   ]
  },
  {
   "cell_type": "code",
   "execution_count": 23,
   "metadata": {},
   "outputs": [
    {
     "name": "stdout",
     "output_type": "stream",
     "text": [
      "0\n",
      "1\n",
      "2\n",
      "3\n",
      "4\n",
      "5\n",
      "6\n",
      "7\n",
      "8\n",
      "9\n",
      "10\n"
     ]
    }
   ],
   "source": [
    "## Generators for memory efficiency\n",
    "# Generators allow us to produce items one at a time, and only when required.\n",
    "\n",
    "def generate_numbers(n):\n",
    "    for i in range(n):\n",
    "        yield i\n",
    "\n",
    "# using the generator\n",
    "for num in generate_numbers(100000):\n",
    "    print(num)\n",
    "    if num >= 10:\n",
    "        break"
   ]
  },
  {
   "cell_type": "code",
   "execution_count": 28,
   "metadata": {},
   "outputs": [],
   "source": [
    "# Profiling memory usage with tracemalloc\n",
    "import tracemalloc\n",
    "\n",
    "def create_list():\n",
    "    return [i for i in range(10000)]\n",
    "\n",
    "def main():\n",
    "    tracemalloc.start()\n",
    "\n",
    "    create_list()\n",
    "\n",
    "    snapshot = tracemalloc.take_snapshot()\n",
    "    top_stats = snapshot.statistics('lineno')\n",
    "\n",
    "    print(\"[ Top 10 ]\")\n",
    "    for stat in top_stats[::]:\n",
    "        print(stat)"
   ]
  },
  {
   "cell_type": "code",
   "execution_count": 29,
   "metadata": {},
   "outputs": [
    {
     "name": "stdout",
     "output_type": "stream",
     "text": [
      "[ Top 10 ]\n",
      "c:\\Users\\N I T R O V15\\anaconda3\\Lib\\site-packages\\tornado\\platform\\asyncio.py:578: size=144 KiB, count=8, average=18.0 KiB\n",
      "<frozen genericpath>:77: size=36.1 KiB, count=310, average=119 B\n",
      "c:\\Users\\N I T R O V15\\anaconda3\\Lib\\site-packages\\pygments\\lexer.py:488: size=17.2 KiB, count=220, average=80 B\n",
      "c:\\Users\\N I T R O V15\\anaconda3\\Lib\\site-packages\\pygments\\formatters\\terminal256.py:44: size=16.6 KiB, count=290, average=59 B\n",
      "c:\\Users\\N I T R O V15\\anaconda3\\Lib\\site-packages\\pygments\\style.py:94: size=15.9 KiB, count=245, average=66 B\n",
      "c:\\Users\\N I T R O V15\\anaconda3\\Lib\\site-packages\\IPython\\core\\compilerop.py:174: size=15.3 KiB, count=156, average=100 B\n",
      "c:\\Users\\N I T R O V15\\anaconda3\\Lib\\tokenize.py:532: size=14.0 KiB, count=256, average=56 B\n",
      "c:\\Users\\N I T R O V15\\anaconda3\\Lib\\ast.py:50: size=12.8 KiB, count=148, average=88 B\n",
      "c:\\Users\\N I T R O V15\\anaconda3\\Lib\\tracemalloc.py:193: size=12.5 KiB, count=266, average=48 B\n",
      "c:\\Users\\N I T R O V15\\anaconda3\\Lib\\tracemalloc.py:67: size=12.1 KiB, count=194, average=64 B\n",
      "c:\\Users\\N I T R O V15\\anaconda3\\Lib\\site-packages\\pygments\\token.py:44: size=11.8 KiB, count=157, average=77 B\n",
      "<string>:1: size=11.5 KiB, count=99, average=119 B\n",
      "c:\\Users\\N I T R O V15\\anaconda3\\Lib\\site-packages\\pygments\\lexer.py:572: size=10.4 KiB, count=181, average=59 B\n",
      "c:\\Users\\N I T R O V15\\anaconda3\\Lib\\tracemalloc.py:558: size=10.3 KiB, count=191, average=55 B\n",
      "c:\\Users\\N I T R O V15\\anaconda3\\Lib\\site-packages\\zmq\\sugar\\attrsettr.py:44: size=8580 B, count=156, average=55 B\n",
      "c:\\Users\\N I T R O V15\\anaconda3\\Lib\\asyncio\\windows_events.py:463: size=8290 B, count=3, average=2763 B\n",
      "c:\\Users\\N I T R O V15\\anaconda3\\Lib\\site-packages\\executing\\executing.py:144: size=7144 B, count=60, average=119 B\n",
      "c:\\Users\\N I T R O V15\\anaconda3\\Lib\\codeop.py:125: size=7056 B, count=100, average=71 B\n",
      "c:\\Users\\N I T R O V15\\anaconda3\\Lib\\site-packages\\pygments\\lexer.py:537: size=6736 B, count=68, average=99 B\n",
      "c:\\Users\\N I T R O V15\\anaconda3\\Lib\\site-packages\\stack_data\\core.py:430: size=5331 B, count=79, average=67 B\n",
      "c:\\Users\\N I T R O V15\\anaconda3\\Lib\\site-packages\\jupyter_client\\jsonutil.py:111: size=4814 B, count=83, average=58 B\n",
      "c:\\Users\\N I T R O V15\\anaconda3\\Lib\\site-packages\\pygments\\style.py:112: size=4661 B, count=79, average=59 B\n",
      "c:\\Users\\N I T R O V15\\anaconda3\\Lib\\site-packages\\stack_data\\core.py:427: size=4624 B, count=1, average=4624 B\n",
      "c:\\Users\\N I T R O V15\\anaconda3\\Lib\\site-packages\\pygments\\style.py:95: size=4624 B, count=1, average=4624 B\n",
      "c:\\Users\\N I T R O V15\\anaconda3\\Lib\\site-packages\\pygments\\lexer.py:543: size=4544 B, count=26, average=175 B\n",
      "c:\\Users\\N I T R O V15\\anaconda3\\Lib\\site-packages\\pygments\\lexer.py:46: size=4496 B, count=15, average=300 B\n",
      "c:\\Users\\N I T R O V15\\anaconda3\\Lib\\site-packages\\traitlets\\traitlets.py:1535: size=4200 B, count=60, average=70 B\n",
      "c:\\Users\\N I T R O V15\\anaconda3\\Lib\\site-packages\\traitlets\\traitlets.py:744: size=4139 B, count=58, average=71 B\n",
      "c:\\Users\\N I T R O V15\\anaconda3\\Lib\\site-packages\\IPython\\core\\compilerop.py:86: size=3884 B, count=62, average=63 B\n",
      "c:\\Users\\N I T R O V15\\anaconda3\\Lib\\site-packages\\pygments\\style.py:70: size=3740 B, count=68, average=55 B\n",
      "c:\\Users\\N I T R O V15\\anaconda3\\Lib\\site-packages\\pygments\\formatters\\terminal256.py:242: size=3264 B, count=1, average=3264 B\n",
      "c:\\Users\\N I T R O V15\\anaconda3\\Lib\\site-packages\\executing\\executing.py:545: size=3202 B, count=20, average=160 B\n",
      "c:\\Users\\N I T R O V15\\anaconda3\\Lib\\site-packages\\pygments\\lexer.py:517: size=3072 B, count=32, average=96 B\n",
      "c:\\Users\\N I T R O V15\\anaconda3\\Lib\\site-packages\\asttokens\\line_numbers.py:44: size=2784 B, count=21, average=133 B\n",
      "c:\\Users\\N I T R O V15\\anaconda3\\Lib\\ast.py:416: size=2733 B, count=45, average=61 B\n",
      "c:\\Users\\N I T R O V15\\anaconda3\\Lib\\json\\decoder.py:353: size=2572 B, count=26, average=99 B\n",
      "c:\\Users\\N I T R O V15\\anaconda3\\Lib\\site-packages\\executing\\executing.py:234: size=2256 B, count=9, average=251 B\n",
      "c:\\Users\\N I T R O V15\\anaconda3\\Lib\\site-packages\\pygments\\formatters\\terminal256.py:180: size=2144 B, count=1, average=2144 B\n",
      "c:\\Users\\N I T R O V15\\anaconda3\\Lib\\site-packages\\pygments\\style.py:61: size=2120 B, count=6, average=353 B\n",
      "c:\\Users\\N I T R O V15\\anaconda3\\Lib\\site-packages\\executing\\executing.py:241: size=1912 B, count=26, average=74 B\n",
      "c:\\Users\\N I T R O V15\\anaconda3\\Lib\\site-packages\\pygments\\lexer.py:514: size=1792 B, count=32, average=56 B\n",
      "c:\\Users\\N I T R O V15\\anaconda3\\Lib\\site-packages\\pygments\\lexer.py:544: size=1784 B, count=30, average=59 B\n",
      "c:\\Users\\N I T R O V15\\anaconda3\\Lib\\site-packages\\pygments\\lexer.py:512: size=1772 B, count=32, average=55 B\n",
      "c:\\Users\\N I T R O V15\\anaconda3\\Lib\\site-packages\\asttokens\\line_numbers.py:60: size=1760 B, count=55, average=32 B\n",
      "c:\\Users\\N I T R O V15\\anaconda3\\Lib\\tokenize.py:535: size=1721 B, count=31, average=56 B\n",
      "c:\\Users\\N I T R O V15\\anaconda3\\Lib\\re\\_compiler.py:761: size=1568 B, count=6, average=261 B\n",
      "c:\\Users\\N I T R O V15\\anaconda3\\Lib\\site-packages\\traitlets\\traitlets.py:1502: size=1560 B, count=13, average=120 B\n",
      "c:\\Users\\N I T R O V15\\anaconda3\\Lib\\site-packages\\jupyter_client\\session.py:1057: size=1559 B, count=14, average=111 B\n",
      "c:\\Users\\N I T R O V15\\anaconda3\\Lib\\site-packages\\pygments\\lexer.py:520: size=1536 B, count=32, average=48 B\n",
      "c:\\Users\\N I T R O V15\\anaconda3\\Lib\\site-packages\\pygments\\lexer.py:553: size=1536 B, count=22, average=70 B\n",
      "c:\\Users\\N I T R O V15\\anaconda3\\Lib\\site-packages\\stack_data\\core.py:712: size=1528 B, count=12, average=127 B\n",
      "c:\\Users\\N I T R O V15\\anaconda3\\Lib\\threading.py:265: size=1520 B, count=4, average=380 B\n",
      "c:\\Users\\N I T R O V15\\anaconda3\\Lib\\site-packages\\ipykernel\\iostream.py:345: size=1480 B, count=18, average=82 B\n",
      "c:\\Users\\N I T R O V15\\anaconda3\\Lib\\dis.py:178: size=1454 B, count=6, average=242 B\n",
      "c:\\Users\\N I T R O V15\\anaconda3\\Lib\\site-packages\\asttokens\\util.py:268: size=1344 B, count=21, average=64 B\n",
      "c:\\Users\\N I T R O V15\\anaconda3\\Lib\\site-packages\\executing\\executing.py:209: size=1246 B, count=16, average=78 B\n",
      "c:\\Users\\N I T R O V15\\anaconda3\\Lib\\site-packages\\jupyter_client\\session.py:100: size=1241 B, count=8, average=155 B\n",
      "c:\\Users\\N I T R O V15\\anaconda3\\Lib\\site-packages\\stack_data\\utils.py:165: size=1231 B, count=13, average=95 B\n",
      "c:\\Users\\N I T R O V15\\anaconda3\\Lib\\site-packages\\ipykernel\\iostream.py:286: size=1224 B, count=13, average=94 B\n",
      "c:\\Users\\N I T R O V15\\anaconda3\\Lib\\site-packages\\pygments\\lexer.py:503: size=1104 B, count=23, average=48 B\n",
      "c:\\Users\\N I T R O V15\\anaconda3\\Lib\\site-packages\\zmq\\sugar\\socket.py:808: size=1104 B, count=6, average=184 B\n",
      "c:\\Users\\N I T R O V15\\anaconda3\\Lib\\site-packages\\ipykernel\\compiler.py:91: size=1078 B, count=9, average=120 B\n",
      "c:\\Users\\N I T R O V15\\anaconda3\\Lib\\tokenize.py:454: size=979 B, count=13, average=75 B\n",
      "c:\\Users\\N I T R O V15\\anaconda3\\Lib\\site-packages\\asttokens\\asttokens.py:62: size=912 B, count=4, average=228 B\n",
      "c:\\Users\\N I T R O V15\\anaconda3\\Lib\\site-packages\\asttokens\\asttokens.py:59: size=912 B, count=4, average=228 B\n",
      "c:\\Users\\N I T R O V15\\anaconda3\\Lib\\site-packages\\IPython\\core\\history.py:773: size=887 B, count=4, average=222 B\n",
      "c:\\Users\\N I T R O V15\\anaconda3\\Lib\\site-packages\\executing\\executing.py:281: size=856 B, count=5, average=171 B\n",
      "c:\\Users\\N I T R O V15\\anaconda3\\Lib\\asyncio\\events.py:80: size=832 B, count=9, average=92 B\n",
      "c:\\Users\\N I T R O V15\\anaconda3\\Lib\\site-packages\\executing\\executing.py:799: size=832 B, count=8, average=104 B\n",
      "c:\\Users\\N I T R O V15\\anaconda3\\Lib\\site-packages\\asttokens\\line_numbers.py:45: size=832 B, count=3, average=277 B\n",
      "c:\\Users\\N I T R O V15\\anaconda3\\Lib\\site-packages\\executing\\executing.py:783: size=800 B, count=20, average=40 B\n",
      "c:\\Users\\N I T R O V15\\anaconda3\\Lib\\site-packages\\asttokens\\util.py:267: size=795 B, count=13, average=61 B\n",
      "c:\\Users\\N I T R O V15\\anaconda3\\Lib\\site-packages\\pygments\\formatters\\terminal256.py:221: size=768 B, count=1, average=768 B\n",
      "c:\\Users\\N I T R O V15\\anaconda3\\Lib\\site-packages\\ipykernel\\iostream.py:275: size=752 B, count=9, average=84 B\n",
      "c:\\Users\\N I T R O V15\\anaconda3\\Lib\\tokenize.py:508: size=728 B, count=13, average=56 B\n",
      "c:\\Users\\N I T R O V15\\anaconda3\\Lib\\site-packages\\asttokens\\util.py:269: size=728 B, count=2, average=364 B\n",
      "c:\\Users\\N I T R O V15\\anaconda3\\Lib\\site-packages\\asttokens\\line_numbers.py:46: size=728 B, count=2, average=364 B\n",
      "c:\\Users\\N I T R O V15\\anaconda3\\Lib\\tokenize.py:513: size=667 B, count=12, average=56 B\n",
      "c:\\Users\\N I T R O V15\\anaconda3\\Lib\\site-packages\\stack_data\\core.py:128: size=624 B, count=13, average=48 B\n",
      "c:\\Users\\N I T R O V15\\anaconda3\\Lib\\site-packages\\executing\\executing.py:809: size=608 B, count=4, average=152 B\n",
      "c:\\Users\\N I T R O V15\\anaconda3\\Lib\\site-packages\\executing\\executing.py:791: size=608 B, count=4, average=152 B\n",
      "c:\\Users\\N I T R O V15\\anaconda3\\Lib\\site-packages\\asttokens\\mark_tokens.py:98: size=608 B, count=2, average=304 B\n",
      "c:\\Users\\N I T R O V15\\anaconda3\\Lib\\site-packages\\asttokens\\line_numbers.py:30: size=586 B, count=11, average=53 B\n",
      "c:\\Users\\N I T R O V15\\anaconda3\\Lib\\site-packages\\IPython\\core\\history.py:827: size=576 B, count=8, average=72 B\n",
      "c:\\Users\\N I T R O V15\\anaconda3\\Lib\\asyncio\\base_events.py:781: size=576 B, count=6, average=96 B\n",
      "c:\\Users\\N I T R O V15\\anaconda3\\Lib\\site-packages\\executing\\executing.py:413: size=568 B, count=4, average=142 B\n",
      "c:\\Users\\N I T R O V15\\anaconda3\\Lib\\site-packages\\asttokens\\mark_tokens.py:44: size=568 B, count=4, average=142 B\n",
      "c:\\Users\\N I T R O V15\\anaconda3\\Lib\\site-packages\\asttokens\\asttokens.py:76: size=568 B, count=4, average=142 B\n",
      "c:\\Users\\N I T R O V15\\anaconda3\\Lib\\site-packages\\asttokens\\asttokens.py:56: size=568 B, count=4, average=142 B\n",
      "c:\\Users\\N I T R O V15\\anaconda3\\Lib\\threading.py:1036: size=568 B, count=1, average=568 B\n",
      "c:\\Users\\N I T R O V15\\anaconda3\\Lib\\fnmatch.py:52: size=560 B, count=10, average=56 B\n",
      "c:\\Users\\N I T R O V15\\anaconda3\\Lib\\site-packages\\pygments\\lexer.py:635: size=544 B, count=4, average=136 B\n",
      "c:\\Users\\N I T R O V15\\anaconda3\\Lib\\site-packages\\IPython\\core\\interactiveshell.py:3080: size=536 B, count=4, average=134 B\n",
      "c:\\Users\\N I T R O V15\\anaconda3\\Lib\\site-packages\\ipykernel\\zmqshell.py:549: size=528 B, count=6, average=88 B\n",
      "c:\\Users\\N I T R O V15\\anaconda3\\Lib\\asyncio\\windows_events.py:786: size=512 B, count=4, average=128 B\n",
      "c:\\Users\\N I T R O V15\\anaconda3\\Lib\\site-packages\\stack_data\\core.py:555: size=504 B, count=4, average=126 B\n",
      "c:\\Users\\N I T R O V15\\anaconda3\\Lib\\site-packages\\executing\\executing.py:372: size=504 B, count=4, average=126 B\n",
      "c:\\Users\\N I T R O V15\\anaconda3\\Lib\\site-packages\\executing\\executing.py:346: size=488 B, count=4, average=122 B\n",
      "c:\\Users\\N I T R O V15\\anaconda3\\Lib\\site-packages\\stack_data\\core.py:520: size=480 B, count=12, average=40 B\n",
      "c:\\Users\\N I T R O V15\\anaconda3\\Lib\\fnmatch.py:46: size=480 B, count=6, average=80 B\n",
      "c:\\Users\\N I T R O V15\\anaconda3\\Lib\\site-packages\\IPython\\core\\interactiveshell.py:3553: size=480 B, count=3, average=160 B\n",
      "c:\\Users\\N I T R O V15\\anaconda3\\Lib\\tokenize.py:613: size=448 B, count=8, average=56 B\n",
      "c:\\Users\\N I T R O V15\\anaconda3\\Lib\\tokenize.py:612: size=448 B, count=8, average=56 B\n",
      "<frozen ntpath>:66: size=432 B, count=7, average=62 B\n",
      "c:\\Users\\N I T R O V15\\anaconda3\\Lib\\asyncio\\windows_events.py:763: size=432 B, count=3, average=144 B\n",
      "c:\\Users\\N I T R O V15\\anaconda3\\Lib\\asyncio\\base_events.py:427: size=432 B, count=3, average=144 B\n",
      "c:\\Users\\N I T R O V15\\anaconda3\\Lib\\site-packages\\ipykernel\\kernelbase.py:764: size=432 B, count=2, average=216 B\n",
      "c:\\Users\\N I T R O V15\\anaconda3\\Lib\\site-packages\\executing\\executing.py:572: size=432 B, count=2, average=216 B\n",
      "c:\\Users\\N I T R O V15\\anaconda3\\Lib\\site-packages\\executing\\executing.py:399: size=432 B, count=2, average=216 B\n",
      "C:\\Users\\N I T R O V15\\AppData\\Local\\Temp\\ipykernel_16056\\3244205288.py:10: size=426 B, count=4, average=106 B\n",
      "c:\\Users\\N I T R O V15\\anaconda3\\Lib\\site-packages\\executing\\executing.py:796: size=416 B, count=8, average=52 B\n",
      "c:\\Users\\N I T R O V15\\anaconda3\\Lib\\site-packages\\executing\\executing.py:795: size=416 B, count=8, average=52 B\n",
      "c:\\Users\\N I T R O V15\\anaconda3\\Lib\\site-packages\\executing\\executing.py:790: size=416 B, count=8, average=52 B\n",
      "c:\\Users\\N I T R O V15\\anaconda3\\Lib\\site-packages\\executing\\executing.py:789: size=416 B, count=8, average=52 B\n",
      "c:\\Users\\N I T R O V15\\anaconda3\\Lib\\site-packages\\executing\\executing.py:788: size=416 B, count=8, average=52 B\n",
      "c:\\Users\\N I T R O V15\\anaconda3\\Lib\\site-packages\\ipykernel\\iostream.py:689: size=400 B, count=6, average=67 B\n",
      "c:\\Users\\N I T R O V15\\anaconda3\\Lib\\ast.py:205: size=400 B, count=4, average=100 B\n",
      "c:\\Users\\N I T R O V15\\anaconda3\\Lib\\site-packages\\executing\\executing.py:200: size=389 B, count=1, average=389 B\n",
      "c:\\Users\\N I T R O V15\\anaconda3\\Lib\\site-packages\\executing\\executing.py:794: size=384 B, count=4, average=96 B\n",
      "c:\\Users\\N I T R O V15\\anaconda3\\Lib\\site-packages\\IPython\\core\\interactiveshell.py:3311: size=384 B, count=1, average=384 B\n",
      "c:\\Users\\N I T R O V15\\anaconda3\\Lib\\fnmatch.py:185: size=380 B, count=6, average=63 B\n",
      "c:\\Users\\N I T R O V15\\anaconda3\\Lib\\asyncio\\windows_events.py:460: size=368 B, count=2, average=184 B\n",
      "c:\\Users\\N I T R O V15\\anaconda3\\Lib\\site-packages\\ipykernel\\kernelbase.py:427: size=368 B, count=1, average=368 B\n",
      "c:\\Users\\N I T R O V15\\anaconda3\\Lib\\asyncio\\futures.py:418: size=360 B, count=9, average=40 B\n",
      "c:\\Users\\N I T R O V15\\anaconda3\\Lib\\site-packages\\stack_data\\utils.py:156: size=360 B, count=3, average=120 B\n",
      "c:\\Users\\N I T R O V15\\anaconda3\\Lib\\tokenize.py:521: size=336 B, count=6, average=56 B\n",
      "c:\\Users\\N I T R O V15\\anaconda3\\Lib\\site-packages\\IPython\\core\\interactiveshell.py:3199: size=304 B, count=5, average=61 B\n",
      "c:\\Users\\N I T R O V15\\anaconda3\\Lib\\site-packages\\zmq\\sugar\\socket.py:805: size=304 B, count=4, average=76 B\n",
      "c:\\Users\\N I T R O V15\\anaconda3\\Lib\\site-packages\\executing\\executing.py:319: size=304 B, count=2, average=152 B\n",
      "c:\\Users\\N I T R O V15\\anaconda3\\Lib\\asyncio\\futures.py:394: size=304 B, count=2, average=152 B\n",
      "c:\\Users\\N I T R O V15\\anaconda3\\Lib\\asyncio\\futures.py:381: size=304 B, count=2, average=152 B\n",
      "c:\\Users\\N I T R O V15\\anaconda3\\Lib\\site-packages\\IPython\\core\\interactiveshell.py:3493: size=304 B, count=1, average=304 B\n",
      "c:\\Users\\N I T R O V15\\anaconda3\\Lib\\site-packages\\IPython\\core\\ultratb.py:1116: size=296 B, count=2, average=148 B\n",
      "c:\\Users\\N I T R O V15\\anaconda3\\Lib\\site-packages\\tornado\\queues.py:248: size=288 B, count=2, average=144 B\n",
      "c:\\Users\\N I T R O V15\\anaconda3\\Lib\\site-packages\\IPython\\core\\ultratb.py:1119: size=288 B, count=2, average=144 B\n",
      "c:\\Users\\N I T R O V15\\anaconda3\\Lib\\site-packages\\stack_data\\core.py:81: size=288 B, count=1, average=288 B\n",
      "c:\\Users\\N I T R O V15\\anaconda3\\Lib\\site-packages\\ipykernel\\zmqshell.py:76: size=288 B, count=1, average=288 B\n",
      "c:\\Users\\N I T R O V15\\anaconda3\\Lib\\site-packages\\ipykernel\\iostream.py:141: size=288 B, count=1, average=288 B\n",
      "c:\\Users\\N I T R O V15\\anaconda3\\Lib\\site-packages\\executing\\executing.py:370: size=288 B, count=1, average=288 B\n",
      "c:\\Users\\N I T R O V15\\anaconda3\\Lib\\site-packages\\executing\\executing.py:324: size=288 B, count=1, average=288 B\n",
      "<frozen genericpath>:19: size=286 B, count=2, average=143 B\n",
      "c:\\Users\\N I T R O V15\\anaconda3\\Lib\\site-packages\\tornado\\platform\\asyncio.py:549: size=272 B, count=6, average=45 B\n",
      "c:\\Users\\N I T R O V15\\anaconda3\\Lib\\site-packages\\stack_data\\core.py:90: size=272 B, count=4, average=68 B\n",
      "c:\\Users\\N I T R O V15\\anaconda3\\Lib\\concurrent\\futures\\_base.py:330: size=272 B, count=4, average=68 B\n",
      "c:\\Users\\N I T R O V15\\anaconda3\\Lib\\site-packages\\ipykernel\\kernelbase.py:523: size=272 B, count=1, average=272 B\n",
      "c:\\Users\\N I T R O V15\\anaconda3\\Lib\\site-packages\\tornado\\platform\\asyncio.py:225: size=256 B, count=4, average=64 B\n",
      "c:\\Users\\N I T R O V15\\anaconda3\\Lib\\site-packages\\stack_data\\utils.py:145: size=256 B, count=4, average=64 B\n",
      "c:\\Users\\N I T R O V15\\anaconda3\\Lib\\site-packages\\ipykernel\\kernelbase.py:310: size=256 B, count=4, average=64 B\n",
      "c:\\Users\\N I T R O V15\\anaconda3\\Lib\\site-packages\\ipykernel\\iostream.py:120: size=256 B, count=1, average=256 B\n",
      "c:\\Users\\N I T R O V15\\anaconda3\\Lib\\site-packages\\IPython\\core\\async_helpers.py:151: size=240 B, count=5, average=48 B\n",
      "c:\\Users\\N I T R O V15\\anaconda3\\Lib\\threading.py:101: size=240 B, count=4, average=60 B\n",
      "c:\\Users\\N I T R O V15\\anaconda3\\Lib\\site-packages\\decorator.py:232: size=240 B, count=4, average=60 B\n",
      "c:\\Users\\N I T R O V15\\anaconda3\\Lib\\inspect.py:257: size=240 B, count=2, average=120 B\n",
      "c:\\Users\\N I T R O V15\\anaconda3\\Lib\\site-packages\\ipykernel\\kernelbase.py:534: size=240 B, count=1, average=240 B\n",
      "c:\\Users\\N I T R O V15\\anaconda3\\Lib\\logging\\__init__.py:1572: size=240 B, count=1, average=240 B\n",
      "c:\\Users\\N I T R O V15\\anaconda3\\Lib\\site-packages\\IPython\\core\\compilerop.py:172: size=224 B, count=8, average=28 B\n",
      "c:\\Users\\N I T R O V15\\anaconda3\\Lib\\site-packages\\executing\\executing.py:805: size=224 B, count=4, average=56 B\n",
      "c:\\Users\\N I T R O V15\\anaconda3\\Lib\\site-packages\\executing\\executing.py:787: size=224 B, count=4, average=56 B\n",
      "c:\\Users\\N I T R O V15\\anaconda3\\Lib\\site-packages\\IPython\\core\\interactiveshell.py:3213: size=216 B, count=2, average=108 B\n",
      "c:\\Users\\N I T R O V15\\anaconda3\\Lib\\asyncio\\futures.py:387: size=216 B, count=2, average=108 B\n",
      "c:\\Users\\N I T R O V15\\anaconda3\\Lib\\site-packages\\IPython\\core\\history.py:796: size=212 B, count=4, average=53 B\n",
      "C:\\Users\\N I T R O V15\\AppData\\Local\\Temp\\ipykernel_16056\\451043146.py:1: size=208 B, count=2, average=104 B\n",
      "c:\\Users\\N I T R O V15\\anaconda3\\Lib\\site-packages\\pygments\\style.py:81: size=208 B, count=1, average=208 B\n",
      "c:\\Users\\N I T R O V15\\anaconda3\\Lib\\site-packages\\jupyter_client\\session.py:1085: size=208 B, count=1, average=208 B\n",
      "c:\\Users\\N I T R O V15\\anaconda3\\Lib\\site-packages\\jupyter_client\\jsonutil.py:75: size=208 B, count=1, average=208 B\n",
      "c:\\Users\\N I T R O V15\\anaconda3\\Lib\\site-packages\\ipykernel\\kernelbase.py:759: size=208 B, count=1, average=208 B\n",
      "c:\\Users\\N I T R O V15\\anaconda3\\Lib\\site-packages\\executing\\executing.py:270: size=208 B, count=1, average=208 B\n",
      "c:\\Users\\N I T R O V15\\anaconda3\\Lib\\site-packages\\jupyter_client\\session.py:688: size=194 B, count=2, average=97 B\n",
      "c:\\Users\\N I T R O V15\\anaconda3\\Lib\\site-packages\\IPython\\core\\interactiveshell.py:3491: size=192 B, count=3, average=64 B\n",
      "c:\\Users\\N I T R O V15\\anaconda3\\Lib\\re\\__init__.py:302: size=192 B, count=3, average=64 B\n",
      "c:\\Users\\N I T R O V15\\anaconda3\\Lib\\asyncio\\windows_events.py:58: size=192 B, count=3, average=64 B\n",
      "c:\\Users\\N I T R O V15\\anaconda3\\Lib\\asyncio\\proactor_events.py:815: size=192 B, count=3, average=64 B\n",
      "c:\\Users\\N I T R O V15\\anaconda3\\Lib\\site-packages\\jupyter_client\\session.py:750: size=192 B, count=2, average=96 B\n",
      "c:\\Users\\N I T R O V15\\anaconda3\\Lib\\site-packages\\IPython\\core\\interactiveshell.py:3485: size=176 B, count=4, average=44 B\n",
      "c:\\Users\\N I T R O V15\\anaconda3\\Lib\\site-packages\\IPython\\core\\interactiveshell.py:3200: size=176 B, count=4, average=44 B\n",
      "c:\\Users\\N I T R O V15\\anaconda3\\Lib\\site-packages\\traitlets\\traitlets.py:1531: size=176 B, count=3, average=59 B\n",
      "c:\\Users\\N I T R O V15\\anaconda3\\Lib\\site-packages\\executing\\executing.py:269: size=176 B, count=1, average=176 B\n",
      "c:\\Users\\N I T R O V15\\anaconda3\\Lib\\site-packages\\ipykernel\\kernelbase.py:1171: size=173 B, count=2, average=86 B\n",
      "c:\\Users\\N I T R O V15\\anaconda3\\Lib\\site-packages\\IPython\\core\\interactiveshell.py:3474: size=168 B, count=3, average=56 B\n",
      "c:\\Users\\N I T R O V15\\anaconda3\\Lib\\asyncio\\windows_events.py:446: size=168 B, count=3, average=56 B\n",
      "c:\\Users\\N I T R O V15\\anaconda3\\Lib\\site-packages\\zmq\\sugar\\attrsettr.py:28: size=165 B, count=3, average=55 B\n",
      "c:\\Users\\N I T R O V15\\anaconda3\\Lib\\site-packages\\stack_data\\core.py:652: size=160 B, count=4, average=40 B\n",
      "c:\\Users\\N I T R O V15\\anaconda3\\Lib\\threading.py:1340: size=160 B, count=2, average=80 B\n",
      "c:\\Users\\N I T R O V15\\anaconda3\\Lib\\threading.py:962: size=160 B, count=1, average=160 B\n",
      "c:\\Users\\N I T R O V15\\anaconda3\\Lib\\site-packages\\executing\\executing.py:499: size=160 B, count=1, average=160 B\n",
      "c:\\Users\\N I T R O V15\\anaconda3\\Lib\\site-packages\\zmq\\sugar\\socket.py:750: size=152 B, count=3, average=51 B\n",
      "c:\\Users\\N I T R O V15\\anaconda3\\Lib\\site-packages\\ipykernel\\kernelbase.py:559: size=152 B, count=1, average=152 B\n",
      "c:\\Users\\N I T R O V15\\anaconda3\\Lib\\site-packages\\IPython\\core\\interactiveshell.py:3469: size=152 B, count=1, average=152 B\n",
      "c:\\Users\\N I T R O V15\\anaconda3\\Lib\\site-packages\\IPython\\core\\interactiveshell.py:2125: size=152 B, count=1, average=152 B\n",
      "c:\\Users\\N I T R O V15\\anaconda3\\Lib\\asyncio\\windows_events.py:469: size=152 B, count=1, average=152 B\n",
      "C:\\Users\\N I T R O V15\\AppData\\Local\\Temp\\ipykernel_16056\\3383816650.py:7: size=152 B, count=1, average=152 B\n",
      "C:\\Users\\N I T R O V15\\AppData\\Local\\Temp\\ipykernel_16056\\3383816650.py:4: size=152 B, count=1, average=152 B\n",
      "c:\\Users\\N I T R O V15\\anaconda3\\Lib\\threading.py:262: size=144 B, count=2, average=72 B\n",
      "c:\\Users\\N I T R O V15\\anaconda3\\Lib\\threading.py:258: size=144 B, count=2, average=72 B\n",
      "c:\\Users\\N I T R O V15\\anaconda3\\Lib\\threading.py:254: size=144 B, count=2, average=72 B\n",
      "c:\\Users\\N I T R O V15\\anaconda3\\Lib\\threading.py:249: size=144 B, count=2, average=72 B\n",
      "c:\\Users\\N I T R O V15\\anaconda3\\Lib\\threading.py:248: size=144 B, count=2, average=72 B\n",
      "c:\\Users\\N I T R O V15\\anaconda3\\Lib\\site-packages\\executing\\executing.py:223: size=144 B, count=2, average=72 B\n",
      "c:\\Users\\N I T R O V15\\anaconda3\\Lib\\site-packages\\IPython\\core\\compilerop.py:171: size=144 B, count=2, average=72 B\n",
      "c:\\Users\\N I T R O V15\\anaconda3\\Lib\\dis.py:465: size=134 B, count=2, average=67 B\n",
      "c:\\Users\\N I T R O V15\\anaconda3\\Lib\\site-packages\\executing\\executing.py:815: size=128 B, count=4, average=32 B\n",
      "c:\\Users\\N I T R O V15\\anaconda3\\Lib\\site-packages\\stack_data\\utils.py:155: size=128 B, count=3, average=43 B\n",
      "c:\\Users\\N I T R O V15\\anaconda3\\Lib\\site-packages\\pygments\\lexer.py:577: size=128 B, count=2, average=64 B\n",
      "c:\\Users\\N I T R O V15\\anaconda3\\Lib\\site-packages\\jupyter_client\\jsonutil.py:73: size=128 B, count=2, average=64 B\n",
      "c:\\Users\\N I T R O V15\\anaconda3\\Lib\\site-packages\\IPython\\core\\interactiveshell.py:3461: size=120 B, count=3, average=40 B\n",
      "c:\\Users\\N I T R O V15\\anaconda3\\Lib\\threading.py:320: size=120 B, count=2, average=60 B\n",
      "c:\\Users\\N I T R O V15\\anaconda3\\Lib\\site-packages\\IPython\\core\\history.py:60: size=120 B, count=2, average=60 B\n",
      "c:\\Users\\N I T R O V15\\anaconda3\\Lib\\site-packages\\pygments\\formatters\\terminal256.py:136: size=120 B, count=1, average=120 B\n",
      "c:\\Users\\N I T R O V15\\anaconda3\\Lib\\ast.py:439: size=116 B, count=2, average=58 B\n",
      "c:\\Users\\N I T R O V15\\anaconda3\\Lib\\site-packages\\zmq\\sugar\\poll.py:48: size=112 B, count=2, average=56 B\n",
      "c:\\Users\\N I T R O V15\\anaconda3\\Lib\\site-packages\\traitlets\\traitlets.py:1522: size=112 B, count=2, average=56 B\n",
      "c:\\Users\\N I T R O V15\\anaconda3\\Lib\\site-packages\\tornado\\platform\\asyncio.py:579: size=112 B, count=2, average=56 B\n",
      "c:\\Users\\N I T R O V15\\anaconda3\\Lib\\site-packages\\stack_data\\core.py:784: size=112 B, count=2, average=56 B\n",
      "c:\\Users\\N I T R O V15\\anaconda3\\Lib\\site-packages\\stack_data\\core.py:702: size=112 B, count=2, average=56 B\n",
      "c:\\Users\\N I T R O V15\\anaconda3\\Lib\\site-packages\\stack_data\\core.py:583: size=112 B, count=2, average=56 B\n",
      "c:\\Users\\N I T R O V15\\anaconda3\\Lib\\site-packages\\pygments\\regexopt.py:77: size=112 B, count=2, average=56 B\n",
      "c:\\Users\\N I T R O V15\\anaconda3\\Lib\\site-packages\\jupyter_client\\session.py:738: size=112 B, count=2, average=56 B\n",
      "c:\\Users\\N I T R O V15\\anaconda3\\Lib\\site-packages\\ipykernel\\ipkernel.py:429: size=112 B, count=2, average=56 B\n",
      "c:\\Users\\N I T R O V15\\anaconda3\\Lib\\site-packages\\IPython\\core\\interactiveshell.py:3459: size=112 B, count=2, average=56 B\n",
      "c:\\Users\\N I T R O V15\\anaconda3\\Lib\\site-packages\\IPython\\core\\interactiveshell.py:3351: size=112 B, count=2, average=56 B\n",
      "c:\\Users\\N I T R O V15\\anaconda3\\Lib\\concurrent\\futures\\_base.py:335: size=112 B, count=2, average=56 B\n",
      "c:\\Users\\N I T R O V15\\anaconda3\\Lib\\concurrent\\futures\\_base.py:334: size=112 B, count=2, average=56 B\n",
      "c:\\Users\\N I T R O V15\\anaconda3\\Lib\\json\\encoder.py:249: size=112 B, count=1, average=112 B\n",
      "c:\\Users\\N I T R O V15\\anaconda3\\Lib\\asyncio\\base_events.py:744: size=112 B, count=1, average=112 B\n",
      "c:\\Users\\N I T R O V15\\anaconda3\\Lib\\site-packages\\jupyter_client\\session.py:989: size=111 B, count=2, average=56 B\n",
      "c:\\Users\\N I T R O V15\\anaconda3\\Lib\\site-packages\\pygments\\style.py:74: size=110 B, count=2, average=55 B\n",
      "c:\\Users\\N I T R O V15\\anaconda3\\Lib\\inspect.py:2044: size=104 B, count=1, average=104 B\n",
      "<frozen ntpath>:723: size=104 B, count=1, average=104 B\n",
      "<frozen ntpath>:720: size=100 B, count=1, average=100 B\n",
      "c:\\Users\\N I T R O V15\\anaconda3\\Lib\\asyncio\\base_events.py:1906: size=96 B, count=3, average=32 B\n",
      "c:\\Users\\N I T R O V15\\anaconda3\\Lib\\site-packages\\tornado\\concurrent.py:186: size=96 B, count=2, average=48 B\n",
      "c:\\Users\\N I T R O V15\\anaconda3\\Lib\\site-packages\\stack_data\\core.py:586: size=96 B, count=2, average=48 B\n",
      "c:\\Users\\N I T R O V15\\anaconda3\\Lib\\site-packages\\IPython\\core\\history.py:784: size=96 B, count=2, average=48 B\n",
      "c:\\Users\\N I T R O V15\\anaconda3\\Lib\\asyncio\\windows_events.py:92: size=96 B, count=2, average=48 B\n",
      "c:\\Users\\N I T R O V15\\anaconda3\\Lib\\warnings.py:189: size=96 B, count=1, average=96 B\n",
      "c:\\Users\\N I T R O V15\\anaconda3\\Lib\\inspect.py:2053: size=96 B, count=1, average=96 B\n",
      "c:\\Users\\N I T R O V15\\anaconda3\\Lib\\tokenize.py:502: size=90 B, count=1, average=90 B\n",
      "c:\\Users\\N I T R O V15\\anaconda3\\Lib\\site-packages\\jupyter_client\\session.py:996: size=88 B, count=2, average=44 B\n",
      "c:\\Users\\N I T R O V15\\anaconda3\\Lib\\site-packages\\IPython\\core\\interactiveshell.py:3479: size=88 B, count=2, average=44 B\n",
      "c:\\Users\\N I T R O V15\\anaconda3\\Lib\\inspect.py:2454: size=88 B, count=1, average=88 B\n",
      "c:\\Users\\N I T R O V15\\anaconda3\\Lib\\threading.py:323: size=84 B, count=2, average=42 B\n",
      "c:\\Users\\N I T R O V15\\anaconda3\\Lib\\site-packages\\stack_data\\core.py:780: size=80 B, count=2, average=40 B\n",
      "c:\\Users\\N I T R O V15\\anaconda3\\Lib\\site-packages\\stack_data\\core.py:719: size=80 B, count=2, average=40 B\n",
      "c:\\Users\\N I T R O V15\\anaconda3\\Lib\\site-packages\\executing\\executing.py:715: size=80 B, count=2, average=40 B\n",
      "c:\\Users\\N I T R O V15\\anaconda3\\Lib\\warnings.py:163: size=80 B, count=1, average=80 B\n",
      "c:\\Users\\N I T R O V15\\anaconda3\\Lib\\site-packages\\pygments\\style.py:90: size=80 B, count=1, average=80 B\n",
      "c:\\Users\\N I T R O V15\\anaconda3\\Lib\\site-packages\\IPython\\core\\completer.py:3130: size=80 B, count=1, average=80 B\n",
      "c:\\Users\\N I T R O V15\\anaconda3\\Lib\\site-packages\\IPython\\core\\history.py:842: size=72 B, count=1, average=72 B\n",
      "c:\\Users\\N I T R O V15\\anaconda3\\Lib\\site-packages\\IPython\\core\\history.py:828: size=72 B, count=1, average=72 B\n",
      "c:\\Users\\N I T R O V15\\anaconda3\\Lib\\site-packages\\IPython\\core\\history.py:825: size=72 B, count=1, average=72 B\n",
      "c:\\Users\\N I T R O V15\\anaconda3\\Lib\\asyncio\\windows_events.py:471: size=68 B, count=2, average=34 B\n",
      "c:\\Users\\N I T R O V15\\anaconda3\\Lib\\site-packages\\executing\\executing.py:313: size=64 B, count=2, average=32 B\n",
      "c:\\Users\\N I T R O V15\\anaconda3\\Lib\\concurrent\\futures\\_base.py:421: size=64 B, count=2, average=32 B\n",
      "c:\\Users\\N I T R O V15\\anaconda3\\Lib\\site-packages\\zmq\\sugar\\socket.py:809: size=64 B, count=1, average=64 B\n",
      "c:\\Users\\N I T R O V15\\anaconda3\\Lib\\site-packages\\zmq\\eventloop\\zmqstream.py:663: size=64 B, count=1, average=64 B\n",
      "c:\\Users\\N I T R O V15\\anaconda3\\Lib\\site-packages\\zmq\\eventloop\\zmqstream.py:584: size=64 B, count=1, average=64 B\n",
      "c:\\Users\\N I T R O V15\\anaconda3\\Lib\\site-packages\\tornado\\platform\\asyncio.py:554: size=64 B, count=1, average=64 B\n",
      "c:\\Users\\N I T R O V15\\anaconda3\\Lib\\site-packages\\tornado\\platform\\asyncio.py:474: size=64 B, count=1, average=64 B\n",
      "c:\\Users\\N I T R O V15\\anaconda3\\Lib\\site-packages\\jupyter_client\\session.py:1053: size=64 B, count=1, average=64 B\n",
      "c:\\Users\\N I T R O V15\\anaconda3\\Lib\\site-packages\\ipykernel\\kernelbase.py:750: size=64 B, count=1, average=64 B\n",
      "c:\\Users\\N I T R O V15\\anaconda3\\Lib\\site-packages\\ipykernel\\kernelbase.py:710: size=64 B, count=1, average=64 B\n",
      "c:\\Users\\N I T R O V15\\anaconda3\\Lib\\site-packages\\ipykernel\\kernelbase.py:552: size=64 B, count=1, average=64 B\n",
      "c:\\Users\\N I T R O V15\\anaconda3\\Lib\\site-packages\\ipykernel\\kernelbase.py:68: size=64 B, count=1, average=64 B\n",
      "c:\\Users\\N I T R O V15\\anaconda3\\Lib\\site-packages\\ipykernel\\ipkernel.py:364: size=64 B, count=1, average=64 B\n",
      "c:\\Users\\N I T R O V15\\anaconda3\\Lib\\site-packages\\ipykernel\\ipkernel.py:363: size=64 B, count=1, average=64 B\n",
      "c:\\Users\\N I T R O V15\\anaconda3\\Lib\\site-packages\\ipykernel\\ipkernel.py:361: size=64 B, count=1, average=64 B\n",
      "c:\\Users\\N I T R O V15\\anaconda3\\Lib\\site-packages\\ipykernel\\ipkernel.py:280: size=64 B, count=1, average=64 B\n",
      "c:\\Users\\N I T R O V15\\anaconda3\\Lib\\site-packages\\ipykernel\\ipkernel.py:277: size=64 B, count=1, average=64 B\n",
      "c:\\Users\\N I T R O V15\\anaconda3\\Lib\\site-packages\\IPython\\core\\ultratb.py:1075: size=64 B, count=1, average=64 B\n",
      "c:\\Users\\N I T R O V15\\anaconda3\\Lib\\site-packages\\IPython\\core\\interactiveshell.py:3542: size=64 B, count=1, average=64 B\n",
      "c:\\Users\\N I T R O V15\\anaconda3\\Lib\\site-packages\\IPython\\core\\interactiveshell.py:3280: size=64 B, count=1, average=64 B\n",
      "c:\\Users\\N I T R O V15\\anaconda3\\Lib\\site-packages\\IPython\\core\\interactiveshell.py:3277: size=64 B, count=1, average=64 B\n",
      "c:\\Users\\N I T R O V15\\anaconda3\\Lib\\inspect.py:2864: size=64 B, count=1, average=64 B\n",
      "c:\\Users\\N I T R O V15\\anaconda3\\Lib\\site-packages\\pygments\\styles\\__init__.py:77: size=61 B, count=1, average=61 B\n",
      "c:\\Users\\N I T R O V15\\anaconda3\\Lib\\warnings.py:471: size=56 B, count=1, average=56 B\n",
      "c:\\Users\\N I T R O V15\\anaconda3\\Lib\\tracemalloc.py:26: size=56 B, count=1, average=56 B\n",
      "c:\\Users\\N I T R O V15\\anaconda3\\Lib\\site-packages\\tornado\\platform\\asyncio.py:602: size=56 B, count=1, average=56 B\n",
      "c:\\Users\\N I T R O V15\\anaconda3\\Lib\\site-packages\\stack_data\\core.py:777: size=56 B, count=1, average=56 B\n",
      "c:\\Users\\N I T R O V15\\anaconda3\\Lib\\site-packages\\pygments\\formatters\\terminal256.py:138: size=56 B, count=1, average=56 B\n",
      "c:\\Users\\N I T R O V15\\anaconda3\\Lib\\site-packages\\jupyter_client\\session.py:1088: size=56 B, count=1, average=56 B\n",
      "c:\\Users\\N I T R O V15\\anaconda3\\Lib\\site-packages\\IPython\\core\\history.py:866: size=56 B, count=1, average=56 B\n",
      "c:\\Users\\N I T R O V15\\anaconda3\\Lib\\site-packages\\IPython\\core\\history.py:857: size=56 B, count=1, average=56 B\n",
      "c:\\Users\\N I T R O V15\\anaconda3\\Lib\\site-packages\\IPython\\core\\completer.py:3062: size=56 B, count=1, average=56 B\n",
      "c:\\Users\\N I T R O V15\\anaconda3\\Lib\\site-packages\\IPython\\core\\completer.py:1120: size=56 B, count=1, average=56 B\n",
      "c:\\Users\\N I T R O V15\\anaconda3\\Lib\\inspect.py:2860: size=56 B, count=1, average=56 B\n",
      "c:\\Users\\N I T R O V15\\anaconda3\\Lib\\site-packages\\IPython\\core\\prefilter.py:317: size=55 B, count=1, average=55 B\n",
      "c:\\Users\\N I T R O V15\\anaconda3\\Lib\\tracemalloc.py:207: size=48 B, count=1, average=48 B\n",
      "c:\\Users\\N I T R O V15\\anaconda3\\Lib\\site-packages\\tornado\\platform\\asyncio.py:619: size=48 B, count=1, average=48 B\n",
      "c:\\Users\\N I T R O V15\\anaconda3\\Lib\\site-packages\\jupyter_client\\session.py:200: size=48 B, count=1, average=48 B\n",
      "c:\\Users\\N I T R O V15\\anaconda3\\Lib\\site-packages\\dateutil\\parser\\_parser.py:1195: size=48 B, count=1, average=48 B\n",
      "c:\\Users\\N I T R O V15\\anaconda3\\Lib\\site-packages\\IPython\\core\\interactiveshell.py:3481: size=48 B, count=1, average=48 B\n",
      "c:\\Users\\N I T R O V15\\anaconda3\\Lib\\site-packages\\IPython\\core\\history.py:826: size=48 B, count=1, average=48 B\n",
      "c:\\Users\\N I T R O V15\\anaconda3\\Lib\\enum.py:1103: size=48 B, count=1, average=48 B\n",
      "C:\\Users\\N I T R O V15\\AppData\\Local\\Temp\\ipykernel_16056\\478120182.py:17: size=48 B, count=1, average=48 B\n",
      "c:\\Users\\N I T R O V15\\anaconda3\\Lib\\site-packages\\IPython\\core\\interactiveshell.py:3575: size=40 B, count=1, average=40 B\n",
      "c:\\Users\\N I T R O V15\\anaconda3\\Lib\\site-packages\\jupyter_client\\session.py:603: size=32 B, count=1, average=32 B\n",
      "c:\\Users\\N I T R O V15\\anaconda3\\Lib\\site-packages\\ipykernel\\iostream.py:606: size=32 B, count=1, average=32 B\n",
      "c:\\Users\\N I T R O V15\\anaconda3\\Lib\\site-packages\\ipykernel\\iostream.py:167: size=32 B, count=1, average=32 B\n",
      "c:\\Users\\N I T R O V15\\anaconda3\\Lib\\site-packages\\IPython\\core\\completer.py:2813: size=32 B, count=1, average=32 B\n",
      "c:\\Users\\N I T R O V15\\anaconda3\\Lib\\site-packages\\IPython\\core\\completer.py:881: size=32 B, count=1, average=32 B\n",
      "c:\\Users\\N I T R O V15\\anaconda3\\Lib\\site-packages\\IPython\\core\\compilerop.py:192: size=32 B, count=1, average=32 B\n",
      "c:\\Users\\N I T R O V15\\anaconda3\\Lib\\asyncio\\base_events.py:747: size=32 B, count=1, average=32 B\n",
      "c:\\Users\\N I T R O V15\\anaconda3\\Lib\\site-packages\\asttokens\\line_numbers.py:32: size=28 B, count=1, average=28 B\n",
      "c:\\Users\\N I T R O V15\\anaconda3\\Lib\\logging\\__init__.py:337: size=24 B, count=1, average=24 B\n"
     ]
    }
   ],
   "source": [
    "main()"
   ]
  }
 ],
 "metadata": {
  "kernelspec": {
   "display_name": "base",
   "language": "python",
   "name": "python3"
  },
  "language_info": {
   "codemirror_mode": {
    "name": "ipython",
    "version": 3
   },
   "file_extension": ".py",
   "mimetype": "text/x-python",
   "name": "python",
   "nbconvert_exporter": "python",
   "pygments_lexer": "ipython3",
   "version": "3.11.7"
  }
 },
 "nbformat": 4,
 "nbformat_minor": 2
}
